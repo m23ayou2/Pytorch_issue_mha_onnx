{
 "cells": [
  {
   "cell_type": "code",
   "execution_count": 8,
   "metadata": {
    "id": "WNydJB3V8o8j"
   },
   "outputs": [],
   "source": [
    "import torch\n",
    "import torch.nn as nn"
   ]
  },
  {
   "cell_type": "code",
   "execution_count": null,
   "metadata": {},
   "outputs": [],
   "source": [
    "def original(tensor):\n",
    "    tensor = tensor.reshape(1, 3, 3, 20)\n",
    "    tensor = tensor.unsqueeze(0)\n",
    "    tensor = tensor.permute(3, 1, 2, 0, 4)\n",
    "    tensor = tensor.squeeze(3)\n",
    "    return tensor"
   ]
  },
  {
   "cell_type": "code",
   "execution_count": null,
   "metadata": {},
   "outputs": [],
   "source": [
    "def optimized(tensor): \n",
    "    tensor = tensor.reshape(1, 3, 3, 20)\n",
    "    tensor = tensor.permute(2, 0, 1, 3)\n",
    "    return tensor"
   ]
  },
  {
   "cell_type": "code",
   "execution_count": null,
   "metadata": {},
   "outputs": [],
   "source": [
    "test = torch.rand(1,3,60)\n",
    "original(test) - optimized(tensor)"
   ]
  }
 ],
 "metadata": {
  "colab": {
   "provenance": []
  },
  "kernelspec": {
   "display_name": "Python 3",
   "name": "python3"
  },
  "language_info": {
   "codemirror_mode": {
    "name": "ipython",
    "version": 3
   },
   "file_extension": ".py",
   "mimetype": "text/x-python",
   "name": "python",
   "nbconvert_exporter": "python",
   "pygments_lexer": "ipython3",
   "version": "3.10.12"
  }
 },
 "nbformat": 4,
 "nbformat_minor": 0
}
