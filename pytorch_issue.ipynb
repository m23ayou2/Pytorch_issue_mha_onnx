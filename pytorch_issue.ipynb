{
  "cells": [
    {
      "cell_type": "code",
      "execution_count": 8,
      "metadata": {
        "id": "WNydJB3V8o8j"
      },
      "outputs": [],
      "source": [
        "import torch\n",
        "import torch.nn as nn"
      ]
    },
    {
      "cell_type": "code",
      "execution_count": 9,
      "metadata": {
        "id": "d-O3UkCEPckB"
      },
      "outputs": [],
      "source": [
        "import onnxruntime as ort\n",
        "import math"
      ]
    },
    {
      "cell_type": "code",
      "execution_count": 10,
      "metadata": {},
      "outputs": [],
      "source": [
        "import copy"
      ]
    },
    {
      "cell_type": "code",
      "execution_count": 11,
      "metadata": {
        "id": "7yiyfNTphK89"
      },
      "outputs": [
        {
          "data": {
            "text/plain": [
              "<torch._C.Generator at 0x7f5d0fbdbb50>"
            ]
          },
          "execution_count": 11,
          "metadata": {},
          "output_type": "execute_result"
        }
      ],
      "source": [
        "seed = 25\n",
        "\n",
        "torch.manual_seed(seed)"
      ]
    },
    {
      "cell_type": "code",
      "execution_count": 12,
      "metadata": {
        "id": "Mo9T55GnDH9X"
      },
      "outputs": [],
      "source": [
        "class MultiHeadAttention(nn.Module):\n",
        "    def __init__(self, embed_dim, num_heads, mask=None):\n",
        "        super(MultiHeadAttention, self).__init__()\n",
        "        self.mask = mask\n",
        "        self.embed_dim = embed_dim\n",
        "        self.head_dim = embed_dim // num_heads\n",
        "        self.num_heads = num_heads\n",
        "        \n",
        "        # Initialize weight matrices\n",
        "        self.in_weights_q = nn.Parameter(torch.Tensor(embed_dim, embed_dim))\n",
        "        self.in_weights_k = nn.Parameter(torch.Tensor(embed_dim, embed_dim))\n",
        "        self.in_weights_v = nn.Parameter(torch.Tensor(embed_dim, embed_dim))\n",
        "        \n",
        "        self.out_weights = nn.Parameter(torch.Tensor(embed_dim, embed_dim))\n",
        "        \n",
        "        \n",
        "    def forward(self, q, k , v):\n",
        "        batch_size, seq_len, _ = q.shape\n",
        "        \n",
        "        # Project inputs to queries, keys and values\n",
        "        q = torch.matmul(q, self.in_weights_q.T)   \n",
        "        k = torch.matmul(k, self.in_weights_k.T)\n",
        "        v = torch.matmul(v, self.in_weights_v.T)\n",
        "\n",
        "        # Reshape for multi-head attention\n",
        "        q = q.reshape(batch_size, seq_len * self.num_heads, self.head_dim).transpose(0, 1)\n",
        "        k = k.reshape(batch_size, seq_len * self.num_heads, self.head_dim).transpose(0, 1)\n",
        "        v = v.reshape(batch_size, seq_len * self.num_heads, self.head_dim).transpose(0, 1)\n",
        "        \n",
        "        # Calculate scaled dot-product attention\n",
        "        scale = 1.0 / math.sqrt(self.head_dim)\n",
        "        #print(q.shape, k.transpose(1, 2).shape)\n",
        "        scores = torch.bmm(q, k.transpose(1, 2))\n",
        "        attn = torch.softmax(scores * scale, dim=-1)\n",
        "        #print(scores.shape)\n",
        "        \n",
        "        # Apply attention to values\n",
        "        output = torch.bmm(attn, v)\n",
        "        print(output.shape)\n",
        "        \n",
        "        # Reshape and project back to output dimension\n",
        "        output = output.transpose(0, 1).reshape(seq_len * batch_size, self.embed_dim)\n",
        "        output = output @ self.out_weights.T\n",
        "        output = output.reshape(batch_size, seq_len, self.embed_dim)\n",
        "        \n",
        "        return output\n",
        "\n"
      ]
    },
    {
      "cell_type": "code",
      "execution_count": 13,
      "metadata": {},
      "outputs": [],
      "source": [
        "# Example usage\n",
        "embed_dim = 20\n",
        "num_heads = 4\n",
        "seq_len = 3\n",
        "batch_size = 1\n",
        "head_dim = int(embed_dim // num_heads)\n",
        "\n",
        "\n",
        "input_tensor = torch.randn(batch_size, seq_len,  embed_dim)\n",
        "\n",
        "multihead_attn = MultiHeadAttention(embed_dim=embed_dim, num_heads=num_heads)\n",
        "mha = nn.MultiheadAttention(embed_dim=embed_dim, num_heads=num_heads, dropout=0, bias=False, add_bias_kv=False, add_zero_attn=False)\n",
        "\n",
        "wq, wk, wv = torch.split(mha.in_proj_weight, [embed_dim, embed_dim, embed_dim], dim=0)\n",
        "multihead_attn.in_weights_q.data = wq\n",
        "multihead_attn.in_weights_k.data = wk\n",
        "multihead_attn.in_weights_v.data = wv\n",
        "multihead_attn.out_weights.data = mha.out_proj.weight\n"
      ]
    },
    {
      "cell_type": "code",
      "execution_count": 14,
      "metadata": {},
      "outputs": [
        {
          "name": "stdout",
          "output_type": "stream",
          "text": [
            "torch.Size([12, 1, 5])\n"
          ]
        },
        {
          "data": {
            "text/plain": [
              "tensor(0., grad_fn=<MulBackward0>)"
            ]
          },
          "execution_count": 14,
          "metadata": {},
          "output_type": "execute_result"
        }
      ],
      "source": [
        "torch.abs(multihead_attn(input_tensor, input_tensor, input_tensor) / mha(input_tensor, input_tensor, input_tensor)[0]-1).max() * 100"
      ]
    },
    {
      "cell_type": "code",
      "execution_count": 15,
      "metadata": {},
      "outputs": [],
      "source": [
        "class mha_(nn.Module): \n",
        "    def __init__(self): \n",
        "        super(mha_, self).__init__()\n",
        "\n",
        "        self.li = nn.Linear(embed_dim, embed_dim)\n",
        "\n",
        "        self.ma = MultiHeadAttention(embed_dim=embed_dim, num_heads=num_heads)\n",
        "\n",
        "    def forward(self, x):\n",
        "        li = self.li(x)\n",
        "        q = li\n",
        "        k = li\n",
        "        v = li\n",
        "\n",
        "        output = self.ma(q,k,v)\n",
        "        return output\n",
        "mha_c = mha_()"
      ]
    },
    {
      "cell_type": "code",
      "execution_count": 16,
      "metadata": {},
      "outputs": [
        {
          "name": "stdout",
          "output_type": "stream",
          "text": [
            "torch.Size([12, 1, 5])\n",
            "Model successfully exported to ONNX format.\n"
          ]
        }
      ],
      "source": [
        "# Export the model to ONNX\n",
        "torch.onnx.export(\n",
        "    mha_c,                    \n",
        "    input_tensor,             \n",
        "    \"mha_model.onnx\",          \n",
        "    export_params=True,      \n",
        "    input_names=['input'],   \n",
        "    output_names=['output'],  \n",
        ")\n",
        "\n",
        "print(\"Model successfully exported to ONNX format.\")\n"
      ]
    },
    {
      "cell_type": "code",
      "execution_count": 17,
      "metadata": {},
      "outputs": [],
      "source": [
        "class mha_(nn.Module): \n",
        "    def __init__(self): \n",
        "        super(mha_, self).__init__()\n",
        "\n",
        "        self.li = nn.Linear(embed_dim, embed_dim)\n",
        "\n",
        "        self.ma = nn.MultiheadAttention(embed_dim=embed_dim, num_heads=num_heads, dropout=0, bias=False, add_bias_kv=False, add_zero_attn=False)\n",
        "\n",
        "    def forward(self, x):\n",
        "        li = self.li(x)\n",
        "        q = li\n",
        "        k = li\n",
        "        v = li\n",
        "\n",
        "        output, _ = self.ma(q, k, v)\n",
        "        return output\n",
        "mha_c = mha_()"
      ]
    },
    {
      "cell_type": "code",
      "execution_count": 18,
      "metadata": {},
      "outputs": [
        {
          "name": "stdout",
          "output_type": "stream",
          "text": [
            "Model successfully exported to ONNX format.\n"
          ]
        }
      ],
      "source": [
        "# Export the model to ONNX\n",
        "torch.onnx.export(\n",
        "    mha_c,                    \n",
        "    input_tensor,             \n",
        "    \"std_mha_model.onnx\",          \n",
        "    export_params=True,      \n",
        "    input_names=['input'],   \n",
        "    output_names=['output'], )\n",
        "\n",
        "print(\"Model successfully exported to ONNX format.\")\n"
      ]
    }
  ],
  "metadata": {
    "colab": {
      "provenance": []
    },
    "kernelspec": {
      "display_name": "Python 3",
      "name": "python3"
    },
    "language_info": {
      "codemirror_mode": {
        "name": "ipython",
        "version": 3
      },
      "file_extension": ".py",
      "mimetype": "text/x-python",
      "name": "python",
      "nbconvert_exporter": "python",
      "pygments_lexer": "ipython3",
      "version": "3.10.12"
    }
  },
  "nbformat": 4,
  "nbformat_minor": 0
}
